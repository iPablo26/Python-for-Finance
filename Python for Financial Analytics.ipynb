{
 "cells": [
  {
   "cell_type": "markdown",
   "metadata": {},
   "source": [
    "### Learning Financial Analytics with Python"
   ]
  },
  {
   "cell_type": "code",
   "execution_count": 1,
   "metadata": {
    "ExecuteTime": {
     "end_time": "2020-10-12T07:28:44.316048Z",
     "start_time": "2020-10-12T07:28:43.810265Z"
    }
   },
   "outputs": [],
   "source": [
    "# Translating a formula(Monte Carlo Estimator for the EU) to python code\n",
    "# NumPy is used here as the main package.\n",
    "import math\n",
    "import numpy as np"
   ]
  },
  {
   "cell_type": "code",
   "execution_count": 2,
   "metadata": {
    "ExecuteTime": {
     "end_time": "2020-10-12T07:30:27.126788Z",
     "start_time": "2020-10-12T07:30:27.120383Z"
    }
   },
   "outputs": [],
   "source": [
    "# The model and simulation parameter values are defined\n",
    "SO = 100\n",
    "K = 105\n",
    "T = 1.0\n",
    "r = 0.05\n",
    "sigma = 0.2\n",
    "I = 100000"
   ]
  },
  {
   "cell_type": "code",
   "execution_count": 3,
   "metadata": {
    "ExecuteTime": {
     "end_time": "2020-10-12T07:31:07.172734Z",
     "start_time": "2020-10-12T07:31:07.167040Z"
    }
   },
   "outputs": [],
   "source": [
    "# The seed value for the random number generator is fixed\n",
    "np.random.seed(1000)"
   ]
  },
  {
   "cell_type": "code",
   "execution_count": 4,
   "metadata": {
    "ExecuteTime": {
     "end_time": "2020-10-12T07:32:34.487096Z",
     "start_time": "2020-10-12T07:32:34.476208Z"
    }
   },
   "outputs": [],
   "source": [
    "# Standard normally distributed random numbers are drawn\n",
    "z = np.random.standard_normal(I)"
   ]
  },
  {
   "cell_type": "code",
   "execution_count": 5,
   "metadata": {
    "ExecuteTime": {
     "end_time": "2020-10-12T07:34:32.204315Z",
     "start_time": "2020-10-12T07:34:32.192646Z"
    }
   },
   "outputs": [],
   "source": [
    "# End-of-period values are simulated\n",
    "ST = SO * np.exp((r - sigma ** 2/2) * T + sigma * math.sqrt(T) * z)"
   ]
  },
  {
   "cell_type": "code",
   "execution_count": 6,
   "metadata": {
    "ExecuteTime": {
     "end_time": "2020-10-12T07:35:16.375173Z",
     "start_time": "2020-10-12T07:35:16.368087Z"
    }
   },
   "outputs": [],
   "source": [
    "# The option payoffs at maturity are calculated\n",
    "hT = np.maximum(ST - K,0)"
   ]
  },
  {
   "cell_type": "code",
   "execution_count": 7,
   "metadata": {
    "ExecuteTime": {
     "end_time": "2020-10-12T07:37:05.185039Z",
     "start_time": "2020-10-12T07:37:05.179811Z"
    }
   },
   "outputs": [],
   "source": [
    "# The Monte Carlo estimator is evaluated\n",
    "CO = math.exp(-r * T) * np.mean(hT)"
   ]
  },
  {
   "cell_type": "code",
   "execution_count": 8,
   "metadata": {
    "ExecuteTime": {
     "end_time": "2020-10-12T07:38:04.563403Z",
     "start_time": "2020-10-12T07:38:04.557220Z"
    }
   },
   "outputs": [
    {
     "name": "stdout",
     "output_type": "stream",
     "text": [
      "Value of the European call option: 8.019.\n"
     ]
    }
   ],
   "source": [
    "# The resulting value estimate is printed\n",
    "print('Value of the European call option: {:5.3f}.'.format(CO))"
   ]
  },
  {
   "cell_type": "code",
   "execution_count": null,
   "metadata": {},
   "outputs": [],
   "source": []
  }
 ],
 "metadata": {
  "kernelspec": {
   "display_name": "Python 3",
   "language": "python",
   "name": "python3"
  },
  "language_info": {
   "codemirror_mode": {
    "name": "ipython",
    "version": 3
   },
   "file_extension": ".py",
   "mimetype": "text/x-python",
   "name": "python",
   "nbconvert_exporter": "python",
   "pygments_lexer": "ipython3",
   "version": "3.8.2"
  }
 },
 "nbformat": 4,
 "nbformat_minor": 4
}
