{
 "cells": [
  {
   "cell_type": "markdown",
   "metadata": {},
   "source": [
    "### Learning Financial Analytics with Python"
   ]
  },
  {
   "cell_type": "code",
   "execution_count": 1,
   "metadata": {
    "ExecuteTime": {
     "end_time": "2020-10-20T20:59:18.392011Z",
     "start_time": "2020-10-20T20:59:17.908845Z"
    }
   },
   "outputs": [],
   "source": [
    "# Translating a formula(Monte Carlo Estimator for the EU) to python code\n",
    "# NumPy is used here as the main package.\n",
    "import math\n",
    "import numpy as np"
   ]
  },
  {
   "cell_type": "code",
   "execution_count": 2,
   "metadata": {
    "ExecuteTime": {
     "end_time": "2020-10-20T20:59:18.400976Z",
     "start_time": "2020-10-20T20:59:18.394889Z"
    }
   },
   "outputs": [],
   "source": [
    "# The model and simulation parameter values are defined\n",
    "SO = 100\n",
    "K = 105\n",
    "T = 1.0\n",
    "r = 0.05\n",
    "sigma = 0.2\n",
    "I = 100000"
   ]
  },
  {
   "cell_type": "code",
   "execution_count": 3,
   "metadata": {
    "ExecuteTime": {
     "end_time": "2020-10-20T20:59:18.479039Z",
     "start_time": "2020-10-20T20:59:18.406086Z"
    }
   },
   "outputs": [],
   "source": [
    "# The seed value for the random number generator is fixed\n",
    "np.random.seed(1000)"
   ]
  },
  {
   "cell_type": "code",
   "execution_count": 4,
   "metadata": {
    "ExecuteTime": {
     "end_time": "2020-10-20T20:59:18.564910Z",
     "start_time": "2020-10-20T20:59:18.484496Z"
    }
   },
   "outputs": [],
   "source": [
    "# Standard normally distributed random numbers are drawn\n",
    "z = np.random.standard_normal(I)"
   ]
  },
  {
   "cell_type": "code",
   "execution_count": 5,
   "metadata": {
    "ExecuteTime": {
     "end_time": "2020-10-20T20:59:18.647352Z",
     "start_time": "2020-10-20T20:59:18.567850Z"
    }
   },
   "outputs": [],
   "source": [
    "# End-of-period values are simulated\n",
    "ST = SO * np.exp((r - sigma ** 2/2) * T + sigma * math.sqrt(T) * z)"
   ]
  },
  {
   "cell_type": "code",
   "execution_count": 6,
   "metadata": {
    "ExecuteTime": {
     "end_time": "2020-10-20T20:59:18.667091Z",
     "start_time": "2020-10-20T20:59:18.650537Z"
    }
   },
   "outputs": [],
   "source": [
    "# The option payoffs at maturity are calculated\n",
    "hT = np.maximum(ST - K,0)"
   ]
  },
  {
   "cell_type": "code",
   "execution_count": 7,
   "metadata": {
    "ExecuteTime": {
     "end_time": "2020-10-20T20:59:18.680343Z",
     "start_time": "2020-10-20T20:59:18.672968Z"
    }
   },
   "outputs": [],
   "source": [
    "# The Monte Carlo estimator is evaluated\n",
    "CO = math.exp(-r * T) * np.mean(hT)"
   ]
  },
  {
   "cell_type": "code",
   "execution_count": 8,
   "metadata": {
    "ExecuteTime": {
     "end_time": "2020-10-20T20:59:18.701301Z",
     "start_time": "2020-10-20T20:59:18.691863Z"
    }
   },
   "outputs": [
    {
     "name": "stdout",
     "output_type": "stream",
     "text": [
      "Value of the European call option: 8.019.\n"
     ]
    }
   ],
   "source": [
    "# The resulting value estimate is printed\n",
    "print('Value of the European call option: {:5.3f}.'.format(CO))"
   ]
  },
  {
   "cell_type": "markdown",
   "metadata": {},
   "source": [
    "*Consider a finance student who is writing their master’s thesis and is\n",
    "interested in S&P 500 index values. They want to analyze historical index\n",
    "levels for, say, a few years to see how the volatility of the index has\n",
    "fluctuated over time and hope to find evidence that volatility, in contrast to\n",
    "some typical model assumptions, fluctuates over time and is far from being\n",
    "constant. The results should also be visualized.*"
   ]
  },
  {
   "cell_type": "code",
   "execution_count": 9,
   "metadata": {
    "ExecuteTime": {
     "end_time": "2020-10-20T21:14:10.752077Z",
     "start_time": "2020-10-20T21:14:09.559468Z"
    }
   },
   "outputs": [],
   "source": [
    "# import pandas, numpy & matplotlib\n",
    "import pandas as pd\n",
    "import numpy as np\n",
    "from pylab import plt, mpl"
   ]
  },
  {
   "cell_type": "code",
   "execution_count": 11,
   "metadata": {
    "ExecuteTime": {
     "end_time": "2020-10-20T21:16:21.372275Z",
     "start_time": "2020-10-20T21:16:21.364358Z"
    }
   },
   "outputs": [],
   "source": [
    "# Configure plotting style and approach\n",
    "plt.style.use('seaborn')\n",
    "mpl.rcParams['font.family'] = 'serif'\n",
    "%matplotlib inline"
   ]
  },
  {
   "cell_type": "code",
   "execution_count": 13,
   "metadata": {
    "ExecuteTime": {
     "end_time": "2020-10-20T21:17:57.421411Z",
     "start_time": "2020-10-20T21:17:57.369497Z"
    }
   },
   "outputs": [
    {
     "data": {
      "text/html": [
       "<div>\n",
       "<style scoped>\n",
       "    .dataframe tbody tr th:only-of-type {\n",
       "        vertical-align: middle;\n",
       "    }\n",
       "\n",
       "    .dataframe tbody tr th {\n",
       "        vertical-align: top;\n",
       "    }\n",
       "\n",
       "    .dataframe thead th {\n",
       "        text-align: right;\n",
       "    }\n",
       "</style>\n",
       "<table border=\"1\" class=\"dataframe\">\n",
       "  <thead>\n",
       "    <tr style=\"text-align: right;\">\n",
       "      <th></th>\n",
       "      <th>AAPL.O</th>\n",
       "      <th>MSFT.O</th>\n",
       "      <th>INTC.O</th>\n",
       "      <th>AMZN.O</th>\n",
       "      <th>GS.N</th>\n",
       "      <th>SPY</th>\n",
       "      <th>.SPX</th>\n",
       "      <th>.VIX</th>\n",
       "      <th>EUR=</th>\n",
       "      <th>XAU=</th>\n",
       "      <th>GDX</th>\n",
       "      <th>GLD</th>\n",
       "    </tr>\n",
       "    <tr>\n",
       "      <th>Date</th>\n",
       "      <th></th>\n",
       "      <th></th>\n",
       "      <th></th>\n",
       "      <th></th>\n",
       "      <th></th>\n",
       "      <th></th>\n",
       "      <th></th>\n",
       "      <th></th>\n",
       "      <th></th>\n",
       "      <th></th>\n",
       "      <th></th>\n",
       "      <th></th>\n",
       "    </tr>\n",
       "  </thead>\n",
       "  <tbody>\n",
       "    <tr>\n",
       "      <th>2010-01-01</th>\n",
       "      <td>NaN</td>\n",
       "      <td>NaN</td>\n",
       "      <td>NaN</td>\n",
       "      <td>NaN</td>\n",
       "      <td>NaN</td>\n",
       "      <td>NaN</td>\n",
       "      <td>NaN</td>\n",
       "      <td>NaN</td>\n",
       "      <td>1.4323</td>\n",
       "      <td>1096.35</td>\n",
       "      <td>NaN</td>\n",
       "      <td>NaN</td>\n",
       "    </tr>\n",
       "    <tr>\n",
       "      <th>2010-01-04</th>\n",
       "      <td>30.572827</td>\n",
       "      <td>30.950</td>\n",
       "      <td>20.88</td>\n",
       "      <td>133.90</td>\n",
       "      <td>173.08</td>\n",
       "      <td>113.33</td>\n",
       "      <td>1132.99</td>\n",
       "      <td>20.04</td>\n",
       "      <td>1.4411</td>\n",
       "      <td>1120.00</td>\n",
       "      <td>47.71</td>\n",
       "      <td>109.80</td>\n",
       "    </tr>\n",
       "    <tr>\n",
       "      <th>2010-01-05</th>\n",
       "      <td>30.625684</td>\n",
       "      <td>30.960</td>\n",
       "      <td>20.87</td>\n",
       "      <td>134.69</td>\n",
       "      <td>176.14</td>\n",
       "      <td>113.63</td>\n",
       "      <td>1136.52</td>\n",
       "      <td>19.35</td>\n",
       "      <td>1.4368</td>\n",
       "      <td>1118.65</td>\n",
       "      <td>48.17</td>\n",
       "      <td>109.70</td>\n",
       "    </tr>\n",
       "    <tr>\n",
       "      <th>2010-01-06</th>\n",
       "      <td>30.138541</td>\n",
       "      <td>30.770</td>\n",
       "      <td>20.80</td>\n",
       "      <td>132.25</td>\n",
       "      <td>174.26</td>\n",
       "      <td>113.71</td>\n",
       "      <td>1137.14</td>\n",
       "      <td>19.16</td>\n",
       "      <td>1.4412</td>\n",
       "      <td>1138.50</td>\n",
       "      <td>49.34</td>\n",
       "      <td>111.51</td>\n",
       "    </tr>\n",
       "    <tr>\n",
       "      <th>2010-01-07</th>\n",
       "      <td>30.082827</td>\n",
       "      <td>30.452</td>\n",
       "      <td>20.60</td>\n",
       "      <td>130.00</td>\n",
       "      <td>177.67</td>\n",
       "      <td>114.19</td>\n",
       "      <td>1141.69</td>\n",
       "      <td>19.06</td>\n",
       "      <td>1.4318</td>\n",
       "      <td>1131.90</td>\n",
       "      <td>49.10</td>\n",
       "      <td>110.82</td>\n",
       "    </tr>\n",
       "  </tbody>\n",
       "</table>\n",
       "</div>"
      ],
      "text/plain": [
       "               AAPL.O  MSFT.O  INTC.O  AMZN.O    GS.N     SPY     .SPX   .VIX  \\\n",
       "Date                                                                            \n",
       "2010-01-01        NaN     NaN     NaN     NaN     NaN     NaN      NaN    NaN   \n",
       "2010-01-04  30.572827  30.950   20.88  133.90  173.08  113.33  1132.99  20.04   \n",
       "2010-01-05  30.625684  30.960   20.87  134.69  176.14  113.63  1136.52  19.35   \n",
       "2010-01-06  30.138541  30.770   20.80  132.25  174.26  113.71  1137.14  19.16   \n",
       "2010-01-07  30.082827  30.452   20.60  130.00  177.67  114.19  1141.69  19.06   \n",
       "\n",
       "              EUR=     XAU=    GDX     GLD  \n",
       "Date                                        \n",
       "2010-01-01  1.4323  1096.35    NaN     NaN  \n",
       "2010-01-04  1.4411  1120.00  47.71  109.80  \n",
       "2010-01-05  1.4368  1118.65  48.17  109.70  \n",
       "2010-01-06  1.4412  1138.50  49.34  111.51  \n",
       "2010-01-07  1.4318  1131.90  49.10  110.82  "
      ]
     },
     "execution_count": 13,
     "metadata": {},
     "output_type": "execute_result"
    }
   ],
   "source": [
    "# Allow retrieval of data\n",
    "data = pd.read_csv('tr_eikon_eod_data.csv', index_col=0, parse_dates=True)\n",
    "data.head()"
   ]
  },
  {
   "cell_type": "code",
   "execution_count": 14,
   "metadata": {
    "ExecuteTime": {
     "end_time": "2020-10-20T21:19:25.805145Z",
     "start_time": "2020-10-20T21:19:25.798378Z"
    }
   },
   "outputs": [],
   "source": [
    "# A subset of the data is picked\n",
    "data = pd.DataFrame(data['.SPX'])"
   ]
  },
  {
   "cell_type": "code",
   "execution_count": 15,
   "metadata": {
    "ExecuteTime": {
     "end_time": "2020-10-20T21:20:19.202830Z",
     "start_time": "2020-10-20T21:20:19.190892Z"
    }
   },
   "outputs": [],
   "source": [
    "# NAN values are eliminated\n",
    "data.dropna(inplace=True)"
   ]
  },
  {
   "cell_type": "code",
   "execution_count": 16,
   "metadata": {
    "ExecuteTime": {
     "end_time": "2020-10-20T21:20:25.652322Z",
     "start_time": "2020-10-20T21:20:25.632768Z"
    }
   },
   "outputs": [
    {
     "name": "stdout",
     "output_type": "stream",
     "text": [
      "<class 'pandas.core.frame.DataFrame'>\n",
      "DatetimeIndex: 2138 entries, 2010-01-04 to 2018-06-29\n",
      "Data columns (total 1 columns):\n",
      " #   Column  Non-Null Count  Dtype  \n",
      "---  ------  --------------  -----  \n",
      " 0   .SPX    2138 non-null   float64\n",
      "dtypes: float64(1)\n",
      "memory usage: 33.4 KB\n"
     ]
    }
   ],
   "source": [
    "# This shows some metainformation about the data\n",
    "data.info()"
   ]
  },
  {
   "cell_type": "code",
   "execution_count": 17,
   "metadata": {
    "ExecuteTime": {
     "end_time": "2020-10-20T21:23:19.026474Z",
     "start_time": "2020-10-20T21:23:19.003116Z"
    }
   },
   "outputs": [],
   "source": [
    "# The log returns are calculated in vectorized fashion (“no looping” on the Python level)\n",
    "data['rets'] = np.log(data / data.shift(1))\n",
    "# The rolling, annualized volatility is derived\n",
    "data['vola'] = data['rets'].rolling(252).std() * np.sqrt(252)"
   ]
  },
  {
   "cell_type": "code",
   "execution_count": 18,
   "metadata": {
    "ExecuteTime": {
     "end_time": "2020-10-20T21:24:57.193844Z",
     "start_time": "2020-10-20T21:24:56.235702Z"
    }
   },
   "outputs": [
    {
     "data": {
      "image/png": "[encoded data removed]",
      "text/plain": [
       "<Figure size 720x432 with 2 Axes>"
      ]
     },
     "metadata": {
      "needs_background": "light"
     },
     "output_type": "display_data"
    }
   ],
   "source": [
    "# This finally plots the two time series\n",
    "data[['.SPX', 'vola']].plot(subplots=True, figsize=(10,6));"
   ]
  },
  {
   "cell_type": "code",
   "execution_count": null,
   "metadata": {},
   "outputs": [],
   "source": []
  }
 ],
 "metadata": {
  "kernelspec": {
   "display_name": "Python 3",
   "language": "python",
   "name": "python3"
  },
  "language_info": {
   "codemirror_mode": {
    "name": "ipython",
    "version": 3
   },
   "file_extension": ".py",
   "mimetype": "text/x-python",
   "name": "python",
   "nbconvert_exporter": "python",
   "pygments_lexer": "ipython3",
   "version": "3.8.6"
  }
 },
 "nbformat": 4,
 "nbformat_minor": 4
}
